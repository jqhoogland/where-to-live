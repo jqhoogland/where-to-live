{
 "cells": [
  {
   "cell_type": "code",
   "execution_count": 30,
   "metadata": {},
   "outputs": [],
   "source": [
    "import os\n",
    "\n",
    "import numpy as np\n",
    "import pandas\n",
    "import matplotlib.pyplot as plt\n",
    "import ipywidgets as widgets\n",
    "from ipywidgets import interact\n",
    "\n",
    "from data.population.utils import filter_by_type, get_indices_matching_type, CityType"
   ]
  },
  {
   "cell_type": "code",
   "execution_count": 31,
   "metadata": {},
   "outputs": [],
   "source": [
    "# Assumes csv has columns:\n",
    "# - Country, City, Jan, Feb, Mar, Apr, May, Jun, Jul, Aug, Sep, Oct, Nov, Dec, Year\n",
    "# And that the rows are alternatingly celsius and fahrentheit (starting with the former).\n",
    "\n",
    "def get_temperature_spread(file_path, save=False):\n",
    "    temperatures = pandas.read_csv(file_path).loc[::2, \"City\":\"Year\"] \n",
    "    city_labels = temperatures.loc[:, \"City\"].to_numpy()\n",
    "    avg_temperatures = temperatures.loc[:, \"Year\"].to_numpy()    \n",
    "    max_temperatures = np.max(temperatures.loc[:, \"Jan\": \"Dec\"].to_numpy(), axis=1)\n",
    "    min_temperatures = np.min(temperatures.loc[:, \"Jan\": \"Dec\"].to_numpy(), axis=1)\n",
    "    \n",
    "    if save:\n",
    "        cleaned_data = pandas.DataFrame(np.array([avg_temperatures, max_temperatures, min_temperatures]).T, columns=[\"Avg\", \"Max\", \"Min\"], index=city_labels)\n",
    "        cleaned_data.to_csv(f\"./cleaned/{os.path.basename(file_path)}\")\n",
    "    \n",
    "    return city_labels, avg_temperatures, max_temperatures, min_temperatures\n",
    "\n",
    "def plot_labeled_scatterplot(labels, x, y, title=\"\", xlabel=\"\", ylabel=\"\", fig_kwargs={}):\n",
    "    fig_kwargs[\"figsize\"] = fig_kwargs.get(\"figsize\", (15,15))\n",
    "    plt.figure(**fig_kwargs)\n",
    "    plt.scatter(x, y)\n",
    "\n",
    "    plt.xlabel(xlabel)\n",
    "    plt.ylabel(ylabel)\n",
    "    plt.title(title)\n",
    "\n",
    "    for i, label in enumerate(labels):\n",
    "        plt.annotate(label, (x[i], y[i]))\n",
    "        \n",
    "    plt.show()\n",
    "    "
   ]
  },
  {
   "cell_type": "code",
   "execution_count": 32,
   "metadata": {},
   "outputs": [],
   "source": [
    "na_cities, na_avgs, na_maxs, na_mins = get_temperature_spread(\"./raw/north-america.csv\")\n",
    "sa_cities, sa_avgs, sa_maxs, sa_mins = get_temperature_spread(\"./raw/south-america.csv\")\n",
    "europe_cities, europe_avgs, europe_maxs, europe_mins = get_temperature_spread(\"./raw/europe.csv\")\n",
    "asia_cities, asia_avgs, asia_maxs, asia_mins = get_temperature_spread(\"./raw/asia.csv\")\n",
    "oceania_cities, oceania_avgs, oceania_maxs, oceania_mins = get_temperature_spread(\"./raw/oceania.csv\")"
   ]
  },
  {
   "cell_type": "code",
   "execution_count": 34,
   "metadata": {},
   "outputs": [
    {
     "data": {
      "application/vnd.jupyter.widget-view+json": {
       "model_id": "840e0245105c48f2a2d9f4121e0bdfcc",
       "version_major": 2,
       "version_minor": 0
      },
      "text/plain": [
       "interactive(children=(Dropdown(description='city_size', options=('all', 'mega', 'large', 'medium', 'small'), v…"
      ]
     },
     "metadata": {},
     "output_type": "display_data"
    }
   ],
   "source": [
    "   \n",
    "@interact\n",
    "def plot_interactive(city_size=[\"all\", \"mega\", \"large\", \"medium\", \"small\"], continent=[\"NA\", \"SA\", \"Europe\", \"Asia\", \"Oceania\"]):\n",
    "    [cities, maxs, mins] = {\n",
    "        \"NA\": [na_cities, na_maxs, na_mins], \n",
    "        \"SA\": [sa_cities, sa_maxs, sa_mins], \n",
    "        \"Europe\": [europe_cities, europe_maxs, europe_mins], \n",
    "        \"Asia\": [asia_cities, asia_maxs, asia_mins], \n",
    "        \"Oceania\": [oceania_cities, oceania_maxs, oceania_mins]\n",
    "    }[continent]\n",
    "        \n",
    "    indices = {\n",
    "        \"all\": np.arange(len(cities)), \n",
    "        \"mega\": get_indices_matching_type(cities, CityType.MEGA),\n",
    "        \"large\": get_indices_matching_type(cities, CityType.LARGE),\n",
    "        \"medium\": get_indices_matching_type(cities, CityType.MEDIUM),\n",
    "        \"small\": get_indices_matching_type(cities, CityType.SMALL)\n",
    "    }[city_size]\n",
    "    \n",
    "    figlength = max(min(int(len(indices) ** 0.5) * 2, 10), 4)\n",
    "    \n",
    "    plot_labeled_scatterplot(\n",
    "        cities[indices], \n",
    "        maxs[indices], \n",
    "        mins[indices], \n",
    "        title=f\"Temperature spread of {city_size} cities in {continent}\", \n",
    "        xlabel=\"Maximum monthly average temperature (ºC)\", \n",
    "        ylabel=\"Minimum monthly average temperature (ºC)\",\n",
    "        fig_kwargs={\"figsize\": (figlength, figlength)}\n",
    "    )\n",
    "    \n"
   ]
  },
  {
   "cell_type": "code",
   "execution_count": null,
   "metadata": {},
   "outputs": [],
   "source": []
  }
 ],
 "metadata": {
  "kernelspec": {
   "display_name": "Python 3",
   "language": "python",
   "name": "python3"
  },
  "language_info": {
   "codemirror_mode": {
    "name": "ipython",
    "version": 3
   },
   "file_extension": ".py",
   "mimetype": "text/x-python",
   "name": "python",
   "nbconvert_exporter": "python",
   "pygments_lexer": "ipython3",
   "version": "3.8.6"
  }
 },
 "nbformat": 4,
 "nbformat_minor": 4
}
